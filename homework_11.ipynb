{
  "nbformat": 4,
  "nbformat_minor": 0,
  "metadata": {
    "colab": {
      "provenance": []
    },
    "kernelspec": {
      "name": "python3",
      "display_name": "Python 3"
    },
    "language_info": {
      "name": "python"
    }
  },
  "cells": [
    {
      "cell_type": "code",
      "execution_count": 1,
      "metadata": {
        "id": "pr1hDsYPyGG0"
      },
      "outputs": [],
      "source": [
        "from keras.datasets import imdb\n",
        "from keras.utils import pad_sequences\n",
        "from keras.models import Sequential\n",
        "from keras.layers import Embedding, SimpleRNN, LSTM, Dense, GRU, Bidirectional"
      ]
    },
    {
      "cell_type": "code",
      "source": [
        "max_features = 10000\n",
        "maxlen = 500\n",
        "batch_size = 32"
      ],
      "metadata": {
        "id": "6704VU4yzVXv"
      },
      "execution_count": 2,
      "outputs": []
    },
    {
      "cell_type": "code",
      "source": [
        "(input_train, y_train), (input_test, y_test) = imdb.load_data(num_words=max_features)"
      ],
      "metadata": {
        "colab": {
          "base_uri": "https://localhost:8080/"
        },
        "id": "QkUYFuRdzZve",
        "outputId": "38737b87-05ba-43d8-ed48-e4cec0eb40a3"
      },
      "execution_count": 3,
      "outputs": [
        {
          "output_type": "stream",
          "name": "stdout",
          "text": [
            "Downloading data from https://storage.googleapis.com/tensorflow/tf-keras-datasets/imdb.npz\n",
            "17464789/17464789 [==============================] - 0s 0us/step\n"
          ]
        }
      ]
    },
    {
      "cell_type": "code",
      "source": [
        "input_train = pad_sequences(input_train, maxlen=maxlen)\n",
        "input_test = pad_sequences(input_test, maxlen=maxlen)"
      ],
      "metadata": {
        "id": "Jhv8GPHr0Cat"
      },
      "execution_count": 4,
      "outputs": []
    },
    {
      "cell_type": "code",
      "source": [
        "# Simple RNN\n",
        "simple_model = Sequential([\n",
        "  Embedding(max_features, 32),\n",
        "\n",
        "  SimpleRNN(32),\n",
        "\n",
        "  Dense(1, activation='sigmoid')\n",
        "  ]\n",
        ")\n"
      ],
      "metadata": {
        "id": "OHv90RI70Eou"
      },
      "execution_count": 21,
      "outputs": []
    },
    {
      "cell_type": "code",
      "source": [
        "simple_model.compile(optimizer='rmsprop', loss='binary_crossentropy', metrics=['acc'])"
      ],
      "metadata": {
        "id": "zjPB4f2D0gUx"
      },
      "execution_count": 22,
      "outputs": []
    },
    {
      "cell_type": "code",
      "source": [
        "simple_model.fit(input_train, y_train, epochs=5, batch_size=128, validation_split=0.2)"
      ],
      "metadata": {
        "colab": {
          "base_uri": "https://localhost:8080/"
        },
        "id": "6-OzvgOI0vNT",
        "outputId": "967545e8-6339-4220-9d68-b3b15de35c7b"
      },
      "execution_count": 23,
      "outputs": [
        {
          "output_type": "stream",
          "name": "stdout",
          "text": [
            "Epoch 1/5\n",
            "157/157 [==============================] - 14s 85ms/step - loss: 0.6228 - acc: 0.6355 - val_loss: 0.5600 - val_acc: 0.7088\n",
            "Epoch 2/5\n",
            "157/157 [==============================] - 13s 80ms/step - loss: 0.4201 - acc: 0.8189 - val_loss: 0.4819 - val_acc: 0.7754\n",
            "Epoch 3/5\n",
            "157/157 [==============================] - 13s 80ms/step - loss: 0.3162 - acc: 0.8709 - val_loss: 0.3780 - val_acc: 0.8472\n",
            "Epoch 4/5\n",
            "157/157 [==============================] - 13s 80ms/step - loss: 0.2659 - acc: 0.8962 - val_loss: 0.3757 - val_acc: 0.8374\n",
            "Epoch 5/5\n",
            "157/157 [==============================] - 13s 80ms/step - loss: 0.2115 - acc: 0.9216 - val_loss: 0.4200 - val_acc: 0.8158\n"
          ]
        },
        {
          "output_type": "execute_result",
          "data": {
            "text/plain": [
              "<keras.src.callbacks.History at 0x7c8ebdc07700>"
            ]
          },
          "metadata": {},
          "execution_count": 23
        }
      ]
    },
    {
      "cell_type": "code",
      "source": [
        "simple_model.evaluate(input_test, y_test)"
      ],
      "metadata": {
        "colab": {
          "base_uri": "https://localhost:8080/"
        },
        "id": "-6A0JUFY0722",
        "outputId": "dca9cd48-f608-43d1-de53-01e562ecd35d"
      },
      "execution_count": 37,
      "outputs": [
        {
          "output_type": "stream",
          "name": "stdout",
          "text": [
            "782/782 [==============================] - 12s 15ms/step - loss: 0.4148 - acc: 0.8154\n"
          ]
        },
        {
          "output_type": "execute_result",
          "data": {
            "text/plain": [
              "[0.41484934091567993, 0.8153600096702576]"
            ]
          },
          "metadata": {},
          "execution_count": 37
        }
      ]
    },
    {
      "cell_type": "code",
      "source": [
        "# Model with GRU\n",
        "gru_model = Sequential([\n",
        "  Embedding(max_features, 32),\n",
        "\n",
        "  GRU(32),\n",
        "\n",
        "  Dense(1, activation='sigmoid')\n",
        "  ]\n",
        ")"
      ],
      "metadata": {
        "id": "3qrfIsqL2hWu"
      },
      "execution_count": 38,
      "outputs": []
    },
    {
      "cell_type": "code",
      "source": [
        "gru_model.compile(optimizer='rmsprop', loss='binary_crossentropy', metrics=['acc'])"
      ],
      "metadata": {
        "id": "yxb5DsOx2sCx"
      },
      "execution_count": 39,
      "outputs": []
    },
    {
      "cell_type": "code",
      "source": [
        "gru_model.fit(input_train, y_train, epochs=5, batch_size=128, validation_split=0.2)"
      ],
      "metadata": {
        "colab": {
          "base_uri": "https://localhost:8080/"
        },
        "id": "tbCYUa6L2u39",
        "outputId": "db1d5216-c4ff-4a33-bec5-1e854f2e9347"
      },
      "execution_count": 40,
      "outputs": [
        {
          "output_type": "stream",
          "name": "stdout",
          "text": [
            "Epoch 1/5\n",
            "157/157 [==============================] - 35s 210ms/step - loss: 0.6287 - acc: 0.6320 - val_loss: 0.4570 - val_acc: 0.7896\n",
            "Epoch 2/5\n",
            "157/157 [==============================] - 31s 195ms/step - loss: 0.3655 - acc: 0.8420 - val_loss: 0.3582 - val_acc: 0.8492\n",
            "Epoch 3/5\n",
            "157/157 [==============================] - 32s 201ms/step - loss: 0.2809 - acc: 0.8881 - val_loss: 0.3412 - val_acc: 0.8622\n",
            "Epoch 4/5\n",
            "157/157 [==============================] - 28s 181ms/step - loss: 0.2466 - acc: 0.9021 - val_loss: 0.3077 - val_acc: 0.8742\n",
            "Epoch 5/5\n",
            "157/157 [==============================] - 27s 172ms/step - loss: 0.2142 - acc: 0.9181 - val_loss: 0.4558 - val_acc: 0.8068\n"
          ]
        },
        {
          "output_type": "execute_result",
          "data": {
            "text/plain": [
              "<keras.src.callbacks.History at 0x7c8ec1ac7430>"
            ]
          },
          "metadata": {},
          "execution_count": 40
        }
      ]
    },
    {
      "cell_type": "code",
      "source": [
        "gru_model.evaluate(input_test, y_test)"
      ],
      "metadata": {
        "colab": {
          "base_uri": "https://localhost:8080/"
        },
        "id": "0Fqb7TY82wjs",
        "outputId": "f99a0d7c-43b5-4f34-e093-aff1468c2d79"
      },
      "execution_count": 41,
      "outputs": [
        {
          "output_type": "stream",
          "name": "stdout",
          "text": [
            "782/782 [==============================] - 18s 24ms/step - loss: 0.4683 - acc: 0.8009\n"
          ]
        },
        {
          "output_type": "execute_result",
          "data": {
            "text/plain": [
              "[0.4683426320552826, 0.8008800148963928]"
            ]
          },
          "metadata": {},
          "execution_count": 41
        }
      ]
    },
    {
      "cell_type": "code",
      "source": [
        "# Model with LSTM\n",
        "lstm_model = Sequential([\n",
        "  Embedding(max_features, 32),\n",
        "\n",
        "  LSTM(32),\n",
        "\n",
        "  Dense(1, activation='sigmoid')\n",
        "  ]\n",
        ")"
      ],
      "metadata": {
        "id": "nCmD4PdA25Ym"
      },
      "execution_count": 29,
      "outputs": []
    },
    {
      "cell_type": "code",
      "source": [
        "lstm_model.compile(optimizer='rmsprop', loss='binary_crossentropy', metrics=['acc'])"
      ],
      "metadata": {
        "id": "66Y2zh2H27ao"
      },
      "execution_count": 30,
      "outputs": []
    },
    {
      "cell_type": "code",
      "source": [
        "lstm_model.fit(input_train, y_train, epochs=5, batch_size=128, validation_split=0.2)"
      ],
      "metadata": {
        "colab": {
          "base_uri": "https://localhost:8080/"
        },
        "id": "ORawl5ZI28sP",
        "outputId": "8953fa19-f1fb-48d4-d5db-689798f64956"
      },
      "execution_count": 31,
      "outputs": [
        {
          "output_type": "stream",
          "name": "stdout",
          "text": [
            "Epoch 1/5\n",
            "157/157 [==============================] - 36s 216ms/step - loss: 0.6133 - acc: 0.6513 - val_loss: 0.4779 - val_acc: 0.7698\n",
            "Epoch 2/5\n",
            "157/157 [==============================] - 34s 218ms/step - loss: 0.3774 - acc: 0.8444 - val_loss: 0.3642 - val_acc: 0.8524\n",
            "Epoch 3/5\n",
            "157/157 [==============================] - 28s 176ms/step - loss: 0.2810 - acc: 0.8888 - val_loss: 0.3010 - val_acc: 0.8730\n",
            "Epoch 4/5\n",
            "157/157 [==============================] - 29s 183ms/step - loss: 0.2410 - acc: 0.9086 - val_loss: 0.2869 - val_acc: 0.8818\n",
            "Epoch 5/5\n",
            "157/157 [==============================] - 28s 175ms/step - loss: 0.2113 - acc: 0.9222 - val_loss: 0.3033 - val_acc: 0.8864\n"
          ]
        },
        {
          "output_type": "execute_result",
          "data": {
            "text/plain": [
              "<keras.src.callbacks.History at 0x7c8ec4a82290>"
            ]
          },
          "metadata": {},
          "execution_count": 31
        }
      ]
    },
    {
      "cell_type": "code",
      "source": [
        "lstm_model.evaluate(input_test, y_test)"
      ],
      "metadata": {
        "colab": {
          "base_uri": "https://localhost:8080/"
        },
        "id": "tWH_QFFL3kIr",
        "outputId": "518ba769-96cd-4a79-90d3-2243f9138c64"
      },
      "execution_count": 42,
      "outputs": [
        {
          "output_type": "stream",
          "name": "stdout",
          "text": [
            "782/782 [==============================] - 20s 25ms/step - loss: 0.3275 - acc: 0.8758\n"
          ]
        },
        {
          "output_type": "execute_result",
          "data": {
            "text/plain": [
              "[0.3275199234485626, 0.875760018825531]"
            ]
          },
          "metadata": {},
          "execution_count": 42
        }
      ]
    },
    {
      "cell_type": "code",
      "source": [
        "# BRNN\n",
        "brnn_model = Sequential([\n",
        "  Embedding(max_features, 32),\n",
        "\n",
        "  Bidirectional(LSTM(32)),\n",
        "\n",
        "  Dense(1, activation='sigmoid')\n",
        "  ]\n",
        ")"
      ],
      "metadata": {
        "id": "4DoedgAl3k65"
      },
      "execution_count": 32,
      "outputs": []
    },
    {
      "cell_type": "code",
      "source": [
        "brnn_model.compile(optimizer='rmsprop', loss='binary_crossentropy', metrics=['acc'])"
      ],
      "metadata": {
        "id": "yx90LkeX3wv8"
      },
      "execution_count": 33,
      "outputs": []
    },
    {
      "cell_type": "code",
      "source": [
        "brnn_model.fit(input_train, y_train, epochs=5, batch_size=128, validation_split=0.2)"
      ],
      "metadata": {
        "colab": {
          "base_uri": "https://localhost:8080/"
        },
        "id": "MciAr7lM3y9s",
        "outputId": "fd571dff-6582-4695-bb1f-413a402fe3a1"
      },
      "execution_count": 34,
      "outputs": [
        {
          "output_type": "stream",
          "name": "stdout",
          "text": [
            "Epoch 1/5\n",
            "157/157 [==============================] - 53s 319ms/step - loss: 0.6377 - acc: 0.6252 - val_loss: 0.4909 - val_acc: 0.7622\n",
            "Epoch 2/5\n",
            "157/157 [==============================] - 52s 328ms/step - loss: 0.3941 - acc: 0.8385 - val_loss: 0.3621 - val_acc: 0.8442\n",
            "Epoch 3/5\n",
            "157/157 [==============================] - 50s 317ms/step - loss: 0.2896 - acc: 0.8852 - val_loss: 0.3135 - val_acc: 0.8686\n",
            "Epoch 4/5\n",
            "157/157 [==============================] - 50s 318ms/step - loss: 0.2389 - acc: 0.9099 - val_loss: 0.2933 - val_acc: 0.8802\n",
            "Epoch 5/5\n",
            "157/157 [==============================] - 50s 321ms/step - loss: 0.2080 - acc: 0.9234 - val_loss: 0.4494 - val_acc: 0.8536\n"
          ]
        },
        {
          "output_type": "execute_result",
          "data": {
            "text/plain": [
              "<keras.src.callbacks.History at 0x7c8ec4ae62f0>"
            ]
          },
          "metadata": {},
          "execution_count": 34
        }
      ]
    },
    {
      "cell_type": "code",
      "source": [
        "brnn_model.evaluate(input_test, y_test)"
      ],
      "metadata": {
        "colab": {
          "base_uri": "https://localhost:8080/"
        },
        "id": "ls2-nqVR30hh",
        "outputId": "f20b9459-6285-4a6b-eb84-d36b49488524"
      },
      "execution_count": 43,
      "outputs": [
        {
          "output_type": "stream",
          "name": "stdout",
          "text": [
            "782/782 [==============================] - 32s 41ms/step - loss: 0.4606 - acc: 0.8503\n"
          ]
        },
        {
          "output_type": "execute_result",
          "data": {
            "text/plain": [
              "[0.46061578392982483, 0.8503199815750122]"
            ]
          },
          "metadata": {},
          "execution_count": 43
        }
      ]
    },
    {
      "cell_type": "markdown",
      "source": [
        "# As we can see the best results showed the model with LSTM.\n",
        "## At the same time both directional model with LSTM showed to be ineffective in our scenario (in both speed of training and accuracy)"
      ],
      "metadata": {
        "id": "IJ7QuRch6u6w"
      }
    }
  ]
}